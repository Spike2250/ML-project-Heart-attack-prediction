{
  "nbformat": 4,
  "nbformat_minor": 0,
  "metadata": {
    "colab": {
      "provenance": []
    },
    "kernelspec": {
      "name": "python3",
      "display_name": "Python 3"
    },
    "language_info": {
      "name": "python"
    }
  },
  "cells": [
    {
      "cell_type": "code",
      "execution_count": 28,
      "metadata": {
        "id": "av0QyOgjysCi"
      },
      "outputs": [],
      "source": [
        "import numpy as np\n",
        "import pandas as pd\n",
        "from sklearn.model_selection import train_test_split\n",
        "from sklearn.preprocessing import MinMaxScaler\n",
        "from sklearn.svm import SVC\n",
        "from sklearn.metrics import accuracy_score\n"
      ]
    },
    {
      "cell_type": "code",
      "source": [
        "df = pd.read_csv('heart.csv')\n",
        "df.info()\n"
      ],
      "metadata": {
        "colab": {
          "base_uri": "https://localhost:8080/"
        },
        "id": "7ihSVGDwyxsi",
        "outputId": "cd389246-f270-4e65-f92c-cdbe75cac679"
      },
      "execution_count": 29,
      "outputs": [
        {
          "output_type": "stream",
          "name": "stdout",
          "text": [
            "<class 'pandas.core.frame.DataFrame'>\n",
            "RangeIndex: 303 entries, 0 to 302\n",
            "Data columns (total 14 columns):\n",
            " #   Column    Non-Null Count  Dtype  \n",
            "---  ------    --------------  -----  \n",
            " 0   age       303 non-null    int64  \n",
            " 1   sex       303 non-null    int64  \n",
            " 2   cp        303 non-null    int64  \n",
            " 3   trtbps    303 non-null    int64  \n",
            " 4   chol      303 non-null    int64  \n",
            " 5   fbs       303 non-null    int64  \n",
            " 6   restecg   303 non-null    int64  \n",
            " 7   thalachh  303 non-null    int64  \n",
            " 8   exng      303 non-null    int64  \n",
            " 9   oldpeak   303 non-null    float64\n",
            " 10  slp       303 non-null    int64  \n",
            " 11  caa       303 non-null    int64  \n",
            " 12  thall     303 non-null    int64  \n",
            " 13  output    303 non-null    int64  \n",
            "dtypes: float64(1), int64(13)\n",
            "memory usage: 33.3 KB\n"
          ]
        }
      ]
    },
    {
      "cell_type": "code",
      "source": [
        "data = df.loc[:, df.columns != 'output'].values\n",
        "output = df.loc[:, 'output'].values\n"
      ],
      "metadata": {
        "id": "fG6yVMASy69x"
      },
      "execution_count": 30,
      "outputs": []
    },
    {
      "cell_type": "code",
      "source": [
        "# Нормализуем данные в пределах от -1 до 1\n",
        "scaler = MinMaxScaler(\n",
        "    (-1, 1)\n",
        ")\n",
        "transformed_data = scaler.fit_transform(data)\n"
      ],
      "metadata": {
        "id": "ZkY4aOCty-RS"
      },
      "execution_count": 31,
      "outputs": []
    },
    {
      "cell_type": "code",
      "source": [
        "# Разделяем выборку\n",
        "x_train, x_test, y_train, y_test = train_test_split(\n",
        "    transformed_data,  # x\n",
        "    output,  # y\n",
        "    test_size=0.2,  # 20% на тестовую выборку\n",
        "    random_state=2,  # управляет перетасовкой, применяемой к данным перед применением разделения\n",
        "    shuffle=True,  # перетасовка данных перед разделением\n",
        ")\n"
      ],
      "metadata": {
        "id": "HKz5TwA22yJx"
      },
      "execution_count": 32,
      "outputs": []
    },
    {
      "cell_type": "code",
      "source": [
        "# Инициализируем модель SVC\n",
        "model = SVC(gamma='auto')\n",
        "# Обучаем модель\n",
        "model.fit(x_train, y_train)\n"
      ],
      "metadata": {
        "colab": {
          "base_uri": "https://localhost:8080/",
          "height": 75
        },
        "id": "qOjMjnZw29SQ",
        "outputId": "20219656-a7ff-4798-f8a1-c10eab00fdb2"
      },
      "execution_count": 33,
      "outputs": [
        {
          "output_type": "execute_result",
          "data": {
            "text/plain": [
              "SVC(gamma='auto')"
            ],
            "text/html": [
              "<style>#sk-container-id-2 {color: black;background-color: white;}#sk-container-id-2 pre{padding: 0;}#sk-container-id-2 div.sk-toggleable {background-color: white;}#sk-container-id-2 label.sk-toggleable__label {cursor: pointer;display: block;width: 100%;margin-bottom: 0;padding: 0.3em;box-sizing: border-box;text-align: center;}#sk-container-id-2 label.sk-toggleable__label-arrow:before {content: \"▸\";float: left;margin-right: 0.25em;color: #696969;}#sk-container-id-2 label.sk-toggleable__label-arrow:hover:before {color: black;}#sk-container-id-2 div.sk-estimator:hover label.sk-toggleable__label-arrow:before {color: black;}#sk-container-id-2 div.sk-toggleable__content {max-height: 0;max-width: 0;overflow: hidden;text-align: left;background-color: #f0f8ff;}#sk-container-id-2 div.sk-toggleable__content pre {margin: 0.2em;color: black;border-radius: 0.25em;background-color: #f0f8ff;}#sk-container-id-2 input.sk-toggleable__control:checked~div.sk-toggleable__content {max-height: 200px;max-width: 100%;overflow: auto;}#sk-container-id-2 input.sk-toggleable__control:checked~label.sk-toggleable__label-arrow:before {content: \"▾\";}#sk-container-id-2 div.sk-estimator input.sk-toggleable__control:checked~label.sk-toggleable__label {background-color: #d4ebff;}#sk-container-id-2 div.sk-label input.sk-toggleable__control:checked~label.sk-toggleable__label {background-color: #d4ebff;}#sk-container-id-2 input.sk-hidden--visually {border: 0;clip: rect(1px 1px 1px 1px);clip: rect(1px, 1px, 1px, 1px);height: 1px;margin: -1px;overflow: hidden;padding: 0;position: absolute;width: 1px;}#sk-container-id-2 div.sk-estimator {font-family: monospace;background-color: #f0f8ff;border: 1px dotted black;border-radius: 0.25em;box-sizing: border-box;margin-bottom: 0.5em;}#sk-container-id-2 div.sk-estimator:hover {background-color: #d4ebff;}#sk-container-id-2 div.sk-parallel-item::after {content: \"\";width: 100%;border-bottom: 1px solid gray;flex-grow: 1;}#sk-container-id-2 div.sk-label:hover label.sk-toggleable__label {background-color: #d4ebff;}#sk-container-id-2 div.sk-serial::before {content: \"\";position: absolute;border-left: 1px solid gray;box-sizing: border-box;top: 0;bottom: 0;left: 50%;z-index: 0;}#sk-container-id-2 div.sk-serial {display: flex;flex-direction: column;align-items: center;background-color: white;padding-right: 0.2em;padding-left: 0.2em;position: relative;}#sk-container-id-2 div.sk-item {position: relative;z-index: 1;}#sk-container-id-2 div.sk-parallel {display: flex;align-items: stretch;justify-content: center;background-color: white;position: relative;}#sk-container-id-2 div.sk-item::before, #sk-container-id-2 div.sk-parallel-item::before {content: \"\";position: absolute;border-left: 1px solid gray;box-sizing: border-box;top: 0;bottom: 0;left: 50%;z-index: -1;}#sk-container-id-2 div.sk-parallel-item {display: flex;flex-direction: column;z-index: 1;position: relative;background-color: white;}#sk-container-id-2 div.sk-parallel-item:first-child::after {align-self: flex-end;width: 50%;}#sk-container-id-2 div.sk-parallel-item:last-child::after {align-self: flex-start;width: 50%;}#sk-container-id-2 div.sk-parallel-item:only-child::after {width: 0;}#sk-container-id-2 div.sk-dashed-wrapped {border: 1px dashed gray;margin: 0 0.4em 0.5em 0.4em;box-sizing: border-box;padding-bottom: 0.4em;background-color: white;}#sk-container-id-2 div.sk-label label {font-family: monospace;font-weight: bold;display: inline-block;line-height: 1.2em;}#sk-container-id-2 div.sk-label-container {text-align: center;}#sk-container-id-2 div.sk-container {/* jupyter's `normalize.less` sets `[hidden] { display: none; }` but bootstrap.min.css set `[hidden] { display: none !important; }` so we also need the `!important` here to be able to override the default hidden behavior on the sphinx rendered scikit-learn.org. See: https://github.com/scikit-learn/scikit-learn/issues/21755 */display: inline-block !important;position: relative;}#sk-container-id-2 div.sk-text-repr-fallback {display: none;}</style><div id=\"sk-container-id-2\" class=\"sk-top-container\"><div class=\"sk-text-repr-fallback\"><pre>SVC(gamma=&#x27;auto&#x27;)</pre><b>In a Jupyter environment, please rerun this cell to show the HTML representation or trust the notebook. <br />On GitHub, the HTML representation is unable to render, please try loading this page with nbviewer.org.</b></div><div class=\"sk-container\" hidden><div class=\"sk-item\"><div class=\"sk-estimator sk-toggleable\"><input class=\"sk-toggleable__control sk-hidden--visually\" id=\"sk-estimator-id-2\" type=\"checkbox\" checked><label for=\"sk-estimator-id-2\" class=\"sk-toggleable__label sk-toggleable__label-arrow\">SVC</label><div class=\"sk-toggleable__content\"><pre>SVC(gamma=&#x27;auto&#x27;)</pre></div></div></div></div></div>"
            ]
          },
          "metadata": {},
          "execution_count": 33
        }
      ]
    },
    {
      "cell_type": "code",
      "source": [
        "# используем обученную модель на тестовых данных\n",
        "y_pred = model.predict(x_test)\n",
        "# выводим точность модели\n",
        "print(accuracy_score(y_test, y_pred) * 100)\n"
      ],
      "metadata": {
        "colab": {
          "base_uri": "https://localhost:8080/"
        },
        "id": "BBLypq0l4FgZ",
        "outputId": "61828107-b7aa-47c3-d9d9-8e3483aa97c1"
      },
      "execution_count": 34,
      "outputs": [
        {
          "output_type": "stream",
          "name": "stdout",
          "text": [
            "88.52459016393442\n"
          ]
        }
      ]
    },
    {
      "cell_type": "code",
      "source": [
        "# Посмотрим с какими значениями random_state точность будет выше\n",
        "for i in range(21):\n",
        "    x_train, x_test, y_train, y_test = train_test_split(\n",
        "        transformed_data,\n",
        "        output,\n",
        "        test_size=0.2,\n",
        "        random_state=i,\n",
        "        shuffle=True,\n",
        "    )\n",
        "    model = SVC(gamma='auto')\n",
        "    model.fit(x_train, y_train)\n",
        "\n",
        "    y_pred = model.predict(x_test)\n",
        "    accuracy = round((accuracy_score(y_test, y_pred) * 100), 2)\n",
        "\n",
        "    print(f\"При random_state {i} - точность модели {accuracy} %\")"
      ],
      "metadata": {
        "colab": {
          "base_uri": "https://localhost:8080/"
        },
        "id": "ZVXnSxwa4QDQ",
        "outputId": "bd0195dc-c559-4aec-f773-bcdc285d2dae"
      },
      "execution_count": 35,
      "outputs": [
        {
          "output_type": "stream",
          "name": "stdout",
          "text": [
            "При random_state 0 - точность модели 81.97 %\n",
            "При random_state 1 - точность модели 72.13 %\n",
            "При random_state 2 - точность модели 88.52 %\n",
            "При random_state 3 - точность модели 85.25 %\n",
            "При random_state 4 - точность модели 88.52 %\n",
            "При random_state 5 - точность модели 90.16 %\n",
            "При random_state 6 - точность модели 80.33 %\n",
            "При random_state 7 - точность модели 75.41 %\n",
            "При random_state 8 - точность модели 86.89 %\n",
            "При random_state 9 - точность модели 86.89 %\n",
            "При random_state 10 - точность модели 77.05 %\n",
            "При random_state 11 - точность модели 81.97 %\n",
            "При random_state 12 - точность модели 80.33 %\n",
            "При random_state 13 - точность модели 78.69 %\n",
            "При random_state 14 - точность модели 78.69 %\n",
            "При random_state 15 - точность модели 88.52 %\n",
            "При random_state 16 - точность модели 81.97 %\n",
            "При random_state 17 - точность модели 83.61 %\n",
            "При random_state 18 - точность модели 83.61 %\n",
            "При random_state 19 - точность модели 78.69 %\n",
            "При random_state 20 - точность модели 77.05 %\n"
          ]
        }
      ]
    },
    {
      "cell_type": "code",
      "source": [
        "# попробуем модель NuSVC\n",
        "from sklearn.svm import NuSVC\n",
        "\n",
        "\n",
        "# Инициализируем модель\n",
        "model = NuSVC()\n",
        "# Обучаем модель\n",
        "model.fit(x_train, y_train)\n",
        "# используем обученную модель на тестовых данных\n",
        "y_pred = model.predict(x_test)\n",
        "# выводим точность модели\n",
        "print(accuracy_score(y_test, y_pred) * 100)\n"
      ],
      "metadata": {
        "colab": {
          "base_uri": "https://localhost:8080/"
        },
        "id": "QVi0DDF65IHb",
        "outputId": "d148fbfa-0457-4f2f-b893-2ad086f86193"
      },
      "execution_count": 38,
      "outputs": [
        {
          "output_type": "stream",
          "name": "stdout",
          "text": [
            "75.40983606557377\n"
          ]
        }
      ]
    },
    {
      "cell_type": "code",
      "source": [
        "# Посмотрим с какими значениями random_state точность будет выше\n",
        "for i in range(21):\n",
        "    x_train, x_test, y_train, y_test = train_test_split(\n",
        "        transformed_data,\n",
        "        output,\n",
        "        test_size=0.2,\n",
        "        random_state=i,\n",
        "        shuffle=True,\n",
        "    )\n",
        "    model = NuSVC()\n",
        "    model.fit(x_train, y_train)\n",
        "\n",
        "    y_pred = model.predict(x_test)\n",
        "    accuracy = round((accuracy_score(y_test, y_pred) * 100), 2)\n",
        "\n",
        "    print(f\"При random_state {i} - точность модели {accuracy} %\")"
      ],
      "metadata": {
        "colab": {
          "base_uri": "https://localhost:8080/"
        },
        "id": "HJNjvgPI6n5J",
        "outputId": "1d748d11-19f6-40a8-b20c-c2c4db16df3e"
      },
      "execution_count": 39,
      "outputs": [
        {
          "output_type": "stream",
          "name": "stdout",
          "text": [
            "При random_state 0 - точность модели 83.61 %\n",
            "При random_state 1 - точность модели 70.49 %\n",
            "При random_state 2 - точность модели 88.52 %\n",
            "При random_state 3 - точность модели 85.25 %\n",
            "При random_state 4 - точность модели 86.89 %\n",
            "При random_state 5 - точность модели 90.16 %\n",
            "При random_state 6 - точность модели 80.33 %\n",
            "При random_state 7 - точность модели 77.05 %\n",
            "При random_state 8 - точность модели 86.89 %\n",
            "При random_state 9 - точность модели 88.52 %\n",
            "При random_state 10 - точность модели 77.05 %\n",
            "При random_state 11 - точность модели 78.69 %\n",
            "При random_state 12 - точность модели 81.97 %\n",
            "При random_state 13 - точность модели 77.05 %\n",
            "При random_state 14 - точность модели 78.69 %\n",
            "При random_state 15 - точность модели 83.61 %\n",
            "При random_state 16 - точность модели 83.61 %\n",
            "При random_state 17 - точность модели 83.61 %\n",
            "При random_state 18 - точность модели 83.61 %\n",
            "При random_state 19 - точность модели 78.69 %\n",
            "При random_state 20 - точность модели 75.41 %\n"
          ]
        }
      ]
    },
    {
      "cell_type": "code",
      "source": [
        "# Попробуем XGBClassifier\n",
        "from xgboost import XGBClassifier\n",
        "\n",
        "\n",
        "# Инициализируем модель\n",
        "model = XGBClassifier()\n",
        "# Обучаем модель\n",
        "model.fit(x_train, y_train)\n",
        "# используем обученную модель на тестовых данных\n",
        "y_pred = model.predict(x_test)\n",
        "# выводим точность модели\n",
        "print(accuracy_score(y_test, y_pred) * 100)\n"
      ],
      "metadata": {
        "colab": {
          "base_uri": "https://localhost:8080/"
        },
        "id": "9jyi7vVj7FOp",
        "outputId": "d10e4387-61e2-4715-fcb0-9d91318fb086"
      },
      "execution_count": 40,
      "outputs": [
        {
          "output_type": "stream",
          "name": "stdout",
          "text": [
            "70.49180327868852\n"
          ]
        }
      ]
    },
    {
      "cell_type": "code",
      "source": [
        "# Посмотрим с какими значениями random_state точность будет выше\n",
        "for i in range(21):\n",
        "    x_train, x_test, y_train, y_test = train_test_split(\n",
        "        transformed_data,\n",
        "        output,\n",
        "        test_size=0.2,\n",
        "        random_state=i,\n",
        "        shuffle=True,\n",
        "    )\n",
        "    model = XGBClassifier()\n",
        "    model.fit(x_train, y_train)\n",
        "\n",
        "    y_pred = model.predict(x_test)\n",
        "    accuracy = round((accuracy_score(y_test, y_pred) * 100), 2)\n",
        "\n",
        "    print(f\"При random_state {i} - точность модели {accuracy} %\")"
      ],
      "metadata": {
        "colab": {
          "base_uri": "https://localhost:8080/"
        },
        "id": "eG_dziwZ7Ovh",
        "outputId": "65bf7f9e-dfa4-49f0-eadb-620c69fe2532"
      },
      "execution_count": 42,
      "outputs": [
        {
          "output_type": "stream",
          "name": "stdout",
          "text": [
            "При random_state 0 - точность модели 83.61 %\n",
            "При random_state 1 - точность модели 73.77 %\n",
            "При random_state 2 - точность модели 85.25 %\n",
            "При random_state 3 - точность модели 78.69 %\n",
            "При random_state 4 - точность модели 86.89 %\n",
            "При random_state 5 - точность модели 83.61 %\n",
            "При random_state 6 - точность модели 80.33 %\n",
            "При random_state 7 - точность модели 73.77 %\n",
            "При random_state 8 - точность модели 75.41 %\n",
            "При random_state 9 - точность модели 83.61 %\n",
            "При random_state 10 - точность модели 78.69 %\n",
            "При random_state 11 - точность модели 80.33 %\n",
            "При random_state 12 - точность модели 77.05 %\n",
            "При random_state 13 - точность модели 70.49 %\n",
            "При random_state 14 - точность модели 72.13 %\n",
            "При random_state 15 - точность модели 81.97 %\n",
            "При random_state 16 - точность модели 75.41 %\n",
            "При random_state 17 - точность модели 81.97 %\n",
            "При random_state 18 - точность модели 83.61 %\n",
            "При random_state 19 - точность модели 80.33 %\n",
            "При random_state 20 - точность модели 70.49 %\n"
          ]
        }
      ]
    }
  ]
}